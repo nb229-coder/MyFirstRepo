{
  "cells": [
    {
      "cell_type": "markdown",
      "metadata": {
        "id": "VA-_IzoV3jmP"
      },
      "source": [
        "# Python for Spatial Analysis - GeoPandas & Rasterio\n",
        "### Second part of the module of GG3209 Spatial Analysis with GIS.\n",
        "---\n",
        "Dr Fernando Benitez -  University of St Andrews - School of Geography and Sustainable Development - Third Iteration 2024 v.3"
      ]
    },
    {
      "cell_type": "markdown",
      "metadata": {
        "id": "OwMgw_C73jmQ"
      },
      "source": [
        "# Introduction\n",
        "\n",
        "Nowadays there are so many libraries to work with spatial data using Python, describing all those libraries would be require a huge among of time. However in this module we will describe the most relevant ones, and from here you will get the basics that are needed to work in the future with similar libraries.\n",
        "\n",
        "All libraries have their own pros and cons. Below is a list of some common tools for geospatial analysis in Python.\n",
        "\n",
        "1. [**ArcPy**](https://pro.arcgis.com/en/pro-app/tool-reference/main/arcgis-pro-tool-reference.htm): Python site package integrated into the **ArcGIS Pro** software environments. ArcPy can be used within ArcGIS Pro via the Python window. ArcGIS Pro now includes **Jupyter Notebook** as part of the base installation. You can also work within notebooks inside of ArcGIS Pro. One relevant Con is Esri Technologies are not free or open-source, so in this module we are limited to work or discuss but in the future module you will learn how to use it. ArcGIS and particularly ArcPY are very powerful and worth investigating. I personally use ArcPy a lot in my own work. Besides it might the most documented tool among the rest.\n",
        "   \n",
        "2. [**GeoPandas**](https://geopandas.org/): You new bestie in Python. Expands **Pandas** to allow for working with vector data using the **Series** and **DataFrame** structures. I will provide an introduction to GeoPandas in this module, which will build upon our prior discussion of Pandas. GeoPandas relies on several dependencies including the following which we have already discussed: **NumPy**, **Pandas**, and **matplotlib**. It also relies on the following libraries/modules:\n",
        "    - [**Shapely**](https://shapely.readthedocs.io/en/latest/): used to perform geometric and overlay operations.\n",
        "    - [**Fiona**](https://fiona.readthedocs.io/en/latest/): used to read and write geospatial data files via links to the **Geospatial Data Abstraction Library (GDAL)**\n",
        "    - [**PyProj**](https://github.com/pyproj4/pyproj): interface to **PROJ** and allows for reading and transformation of geographic and projected coordinate systems.\n",
        "    - [**MapClassify**](https://pysal.org/mapclassify/): allows for choropleth mapping.\n",
        "    - [**Descartes**](https://pypi.org/project/descartes/): use vector geospatial features with matplotlib.\n",
        "  \n",
        "3. [**Rasterio**](https://rasterio.readthedocs.io/en/latest/intro.html): allows for reading, writing, and manipulation of raster geospatial data. This package relies heavily on NumPy so that rasters can be manipulated as arrays.\n",
        "\n",
        "4. [**Contextily**](https://github.com/geopandas/contextily): allows for retrieval of **raster tile layers** for use as base maps within matplotlib plots.\n",
        "\n",
        "5. [**EarthPy**](https://earthpy.readthedocs.io/en/latest/): expands the functionality of GeoPandas and Rasterio. Very useful for raster and multispectral image analysis.\n",
        "\n",
        "6. [**WhiteboxTools**](https://jblindsay.github.io/wbt_book/intro.html): provides more than 440 tools for analyzing geospatial data, including tools for data preparation, vector analysis and overlay, raster and image analysis, geomorphometric analysis, hydrological analysis, and LiDAR processing. These tools can be accessed in Python, R, QGIS, and via a command-line interface. They can also be accessed via a graphical user interface (GUI) known as [**Whitebox GAT**](https://jblindsay.github.io/ghrg/Whitebox/). This tool set was developed by [Dr. John Lindsay](https://jblindsay.github.io/ghrg/index.html) of the Geomorphometry & Hydrogeomatics Research Group at the University of Guelph.\n",
        "\n",
        "Because we are limited by only one lecture we can briefly cover an intro of GeoPandas and Rasteio, but in future modules we will have more time to dig into those resources.\n",
        "\n"
      ]
    },
    {
      "cell_type": "markdown",
      "source": [
        "# Content\n",
        "\n",
        "1. Read and write vector geospatial data using **GeoPandas**.\n",
        "2. Read and write raster geospatial data using **Rasterio**.\n",
        "3. Visualize geospatial data and make maps using **GeoPandas**, **Rasterio**, and **matplotlib**."
      ],
      "metadata": {
        "id": "KyiaVrmTdPu_"
      }
    },
    {
      "cell_type": "markdown",
      "source": [
        "# Mount your Drive\n",
        "\n",
        "As we need to access our Google Drive unit, to get access to the data we previously upload., we need to mount that drive as part of this current python session. Run the following code to allow this notebook access to your drive."
      ],
      "metadata": {
        "id": "8cyv67K2cuzr"
      }
    },
    {
      "cell_type": "code",
      "source": [
        "from google.colab import drive\n",
        "drive.mount('/content/drive')"
      ],
      "metadata": {
        "id": "e8aeI-fccxor"
      },
      "execution_count": null,
      "outputs": []
    },
    {
      "cell_type": "markdown",
      "metadata": {
        "id": "VMqVtCHg3jmQ"
      },
      "source": [
        "# Installing new libraries"
      ]
    },
    {
      "cell_type": "code",
      "source": [
        "pip install contextily"
      ],
      "metadata": {
        "id": "9IQdmMV63qIh"
      },
      "execution_count": null,
      "outputs": []
    },
    {
      "cell_type": "code",
      "source": [
        "pip install mapclassify"
      ],
      "metadata": {
        "id": "qiOUVgrRcaNM"
      },
      "execution_count": null,
      "outputs": []
    },
    {
      "cell_type": "markdown",
      "source": [
        "## Importing the libraries"
      ],
      "metadata": {
        "id": "S_A1oDiCzI5s"
      }
    },
    {
      "cell_type": "code",
      "execution_count": null,
      "metadata": {
        "id": "srUjPod03jmR"
      },
      "outputs": [],
      "source": [
        "import numpy as np\n",
        "import pandas as pd\n",
        "import matplotlib.pyplot as plt\n",
        "%matplotlib inline\n",
        "import geopandas as gpd\n",
        "import contextily as ctx\n",
        "import rasterio as rio\n",
        "from rasterio import plot\n",
        "\n",
        "plt.rcParams['figure.figsize'] = [10, 8]"
      ]
    },
    {
      "cell_type": "markdown",
      "metadata": {
        "id": "okEY7BuP3jmR"
      },
      "source": [
        "# GeoPandas\n",
        "\n",
        "Vector data is an intuitive and common spatial data format and the one we will focus on most in this lab. Vector data is simply a collection of discrete locations ((x, y) values) called “vertices” that define one of three shapes:\n",
        "\n",
        "- Point: a single (x, y) point. Like the location of your house.\n",
        "\n",
        "- Line: two or more connected (x, y) points. Like a road.\n",
        "\n",
        "- Polygon: three or more (x, y) points connected and closed. Like a lake, or the border of a country.\n",
        "\n",
        "As you remember from the previous part of this module, vector data is most commonly stored in a **“shapefile”**. A **shapefile** is actually composed of 3 required files with the same prefix (here, spatial-data) but different extensions:\n",
        "\n",
        "1. **spatial-data.shp:** main file that stores records of each shape geometries\n",
        "\n",
        "2. **spatial-data.shx:** index of how the geometries in the main file relate to one-another\n",
        "\n",
        "3. **spatial-data.dbf:** attributes of each record\n",
        "\n",
        "There are other optional files that may also be part of a shapefile but we won’t worry about them for now. Each shapefile can only contain one type of shape. For example, the descriptions for a house (point), a road (line), and a postal code area (polygon) would be stored in three separate shapefiles.\n",
        "\n",
        "There are other file-types for storing vector data too like geojson. These files can generally be imported into Python using the same methods and packages we use below."
      ]
    },
    {
      "cell_type": "markdown",
      "source": [
        "## Reading the data from external file.\n",
        "\n",
        "In most of the GeoPandas tutorials, they teach you how to create a spatial structure, and how you can create vector geometries. But that only happens for the more advanced scripts, although it gives you an idea about how GeoPandas works for this part of the course we will focus on using data from external sources. For example the data from the census, or data you have processed in the initial part of this module, using QGIS.\n",
        "\n",
        "We now will use multiple shapefiles, you will extract them and then read them  only using paths from Google Drive. The data is included in **Moodle** in the **data** folder for this week. Download that folder, extract it, and then uplodad all the content in a folder call data. Your structure should look like the following image.\n",
        "\n",
        "In the following code cell we will read the folder you have created to store the data for the lab, and using a **For** loop to iterate among all the zip files and extract it in separated folders. **This code will only works if you have the same path, including Google Drive and then one folder called Colab Notebooks, and inside the folder data.**, if your path is different then update the code bellow."
      ],
      "metadata": {
        "id": "dvhIO1cVzi4f"
      }
    },
    {
      "cell_type": "markdown",
      "source": [
        "![Screenshot 2023-11-02 at 21.46.53.png](data:image/png;base64,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)"
      ],
      "metadata": {
        "id": "ankP36MOCkfK"
      }
    },
    {
      "cell_type": "code",
      "source": [
        "# Save this code, you probably will need it in the future.\n",
        "\n",
        "import zipfile\n",
        "import os\n",
        "\n",
        "# Define the folder containing the zip files\n",
        "folder_with_zips = '/content/drive/MyDrive/Colab Notebooks/data/'  # Replace with the path to your drive folder if needed\n",
        "\n",
        "# Ensure the output directory exists\n",
        "output_dir = '/content/drive/MyDrive/Colab Notebooks/data/'\n",
        "os.makedirs(output_dir, exist_ok=True) # Always good to check the folder exists.\n",
        "\n",
        "# Iterate through the files in the folder\n",
        "for filename in os.listdir(folder_with_zips):\n",
        "    file_path = os.path.join(folder_with_zips, filename)\n",
        "\n",
        "    # Check if the file is a zip file\n",
        "    if filename.endswith('.zip'):\n",
        "        with zipfile.ZipFile(file_path, 'r') as zip_ref:\n",
        "            # Create a folder with the same name as the zip file (without the .zip extension), that is very convenient.\n",
        "            folder_name = os.path.splitext(filename)[0]\n",
        "            folder_path = os.path.join(output_dir, folder_name)\n",
        "            os.makedirs(folder_path, exist_ok=True)\n",
        "\n",
        "            # Extract the contents of the zip file into the folder\n",
        "            zip_ref.extractall(folder_path)\n",
        "\n",
        "            print(f'Oh look what I got, Unzipped {filename} to {folder_path}')\n",
        "    else:\n",
        "        print(f'Skipping {filename} (Sorry, not a zip file)')\n",
        "\n",
        "print(\"Unzipping completed. Wahoo!\")"
      ],
      "metadata": {
        "id": "fI7H6Ym69dEV"
      },
      "execution_count": null,
      "outputs": []
    },
    {
      "cell_type": "markdown",
      "source": [
        "## Reading external files"
      ],
      "metadata": {
        "id": "6R99vIjHbYd6"
      }
    },
    {
      "cell_type": "markdown",
      "metadata": {
        "id": "2LUzLAIZ3jmR"
      },
      "source": [
        "First, you are reading in a polygon vector layer of **Scottish Index of Multiple Deprivation** per Data zone using GeoPandas. The ***plot()*** method is then used to display the data using matplotlib and some default settings. The axes values represent measurements within the coordinate system."
      ]
    },
    {
      "cell_type": "code",
      "execution_count": null,
      "metadata": {
        "id": "iFykDnbh3jmR"
      },
      "outputs": [],
      "source": [
        "simd_geo = gpd.read_file('/content/drive/MyDrive/Colab Notebooks/data/SIMD_20_Geo/SIMD_20_Geo.shp')\n",
        "simd_geo.plot()"
      ]
    },
    {
      "cell_type": "markdown",
      "metadata": {
        "id": "Gb27NTaN3jmS"
      },
      "source": [
        "If you noticed loading this dataset took a lot of time, not only because is a well-detalied dataset, but also included more than 6.000 polygons, so we will need to filtering some rows to make our life easier.\n",
        "\n",
        "Using the ***head()*** method, that you are already familiar with,  you can see that the structure of these data are very similar to a Pandas DataFrame.\n",
        "\n",
        "In fact, it is a **Pandas DataFrame** with one key addition: The geographic information is stored in a column in the table. Based on what you know from the previous part of the course the vector data model integrated here is similar to other **object-based** models in which the geometric and tabulated data are stored in the same object or table. This is similar to a feature class in a file geodatabase or an sf object in R.\n",
        "\n",
        "On of the advantages of referencing our vector data using this method is that we can apply the Pandas methods discussed earlier. For example, you can query and subset records, add new columns, group and summarize, and perform table joins."
      ]
    },
    {
      "cell_type": "code",
      "execution_count": null,
      "metadata": {
        "id": "zb5I3w7c3jmS"
      },
      "outputs": [],
      "source": [
        "simd_geo.head()"
      ]
    },
    {
      "cell_type": "markdown",
      "metadata": {
        "id": "uwizXsMZ3jmS"
      },
      "source": [
        "Now, we can subsetting or selecting particular columns and rows using some of the methods we applied with Pandas. In the following example we create a new geo-dataframe with a reduced number of columns."
      ]
    },
    {
      "cell_type": "code",
      "execution_count": null,
      "metadata": {
        "id": "XSIDc9uB3jmS"
      },
      "outputs": [],
      "source": [
        "small_sample = simd_geo[[\"DataZone\",\"DZName\",\"LAName\",\"Quintilev2\", \"Shape_Area\", \"geometry\"]]\n",
        "small_sample.head()"
      ]
    },
    {
      "cell_type": "markdown",
      "metadata": {
        "id": "uP0D5lVb3jmS"
      },
      "source": [
        "## Filtering data\n",
        "\n",
        "We can subset the rows (i.e., features) of a GeoDataFrame using a corresponding boolean Series, the same way we subset rows of a DataFrame. Typically, the boolean Series is the result of applying a conditional operator on one or more columns of the same GeoDataFrame."
      ]
    },
    {
      "cell_type": "code",
      "execution_count": null,
      "metadata": {
        "id": "Tq_pQQix3jmS"
      },
      "outputs": [],
      "source": [
        "New_sample = small_sample['LAName'] == 'Aberdeen City'\n",
        "New_sample"
      ]
    },
    {
      "cell_type": "markdown",
      "metadata": {
        "id": "13N7GyVl3jmS"
      },
      "source": [
        "Second, we need to pass the series as an index to the GeoDataFrame. As a result, the New_GDF now contains only the rows with LAName as Aberdeen City"
      ]
    },
    {
      "cell_type": "code",
      "execution_count": null,
      "metadata": {
        "id": "2jo06om13jmS"
      },
      "outputs": [],
      "source": [
        "New_GDF =  small_sample[New_sample]\n",
        "New_GDF"
      ]
    },
    {
      "cell_type": "markdown",
      "source": [
        "## Explore Method"
      ],
      "metadata": {
        "id": "Ri8AR4DcbpJF"
      }
    },
    {
      "cell_type": "markdown",
      "metadata": {
        "id": "AZt75d-t3jmS"
      },
      "source": [
        "**Geopandas** also provides the **.explore method**, which facilitates interactive exploration of the vector layers we are working with. The .explore method takes many of the same arguments as .plot (such as column and cmap), but also some specific ones (such as style_kwds)."
      ]
    },
    {
      "cell_type": "code",
      "execution_count": null,
      "metadata": {
        "id": "zlu8W9vn3jmS"
      },
      "outputs": [],
      "source": [
        "New_GDF.explore(column='Quintilev2', cmap='RdYlBu')"
      ]
    },
    {
      "cell_type": "markdown",
      "metadata": {
        "id": "x-eeh9kd3jmT"
      },
      "source": [
        "The *crs* attribute lists the spatial coordinate system information for the file.\n",
        "\n",
        "## Projection Information\n",
        "\n",
        "It is generally a good idea to explore this information to make sure that the projection information is properly loaded.\n",
        "\n",
        "Projections are referenced using **European Petroleum Survey Group** (**EPSG**) codes. Here, you can see o copy of the SMID_2020 data but in a projected reference system British National Grid (EPSG:27700). The geographic coordinate system or datum is WGS84. The easting and northing measurements are reported in meters. The area of use of the coordinate system is also defined."
      ]
    },
    {
      "cell_type": "code",
      "execution_count": null,
      "metadata": {
        "id": "93VRNbJz3jmT"
      },
      "outputs": [],
      "source": [
        "simd_prj = gpd.read_file('/content/drive/MyDrive/Colab Notebooks/data/SIMD_20_Proj/SIMD_20_Proj.shp')\n",
        "simd_prj.plot()"
      ]
    },
    {
      "cell_type": "markdown",
      "metadata": {
        "id": "jWNJ7ics3jmT"
      },
      "source": [
        "Filtering the projected dataset"
      ]
    },
    {
      "cell_type": "code",
      "execution_count": null,
      "metadata": {
        "id": "hrcI5Df_3jmT"
      },
      "outputs": [],
      "source": [
        "small_prj = simd_prj[[\"DataZone\",\"DZName\",\"LAName\",\"SAPE2017\",\"Quintilev2\", \"Shape_Area\", \"geometry\"]]\n",
        "index_prj = small_prj['LAName'] == 'City of Edinburgh'\n",
        "small_prj =  small_prj[index_prj]\n",
        "small_prj"
      ]
    },
    {
      "cell_type": "code",
      "execution_count": null,
      "metadata": {
        "id": "wWtW9BEK3jmT"
      },
      "outputs": [],
      "source": [
        "# You can remove the hastag to see the another crs information.\n",
        "#simd_geo.crs\n",
        "small_prj.crs"
      ]
    },
    {
      "cell_type": "markdown",
      "metadata": {
        "id": "bSd1Tb3f3jmT"
      },
      "source": [
        "## bounds()\n",
        "\n",
        "The *bounds()* method provides the rectangular bounds of each feature in the data set relative to the coordinate system as a Pandas DataFrame.\n",
        "\n",
        "In contrast, the *total_bounds()* method provides the bounds for the entire dataset as an array."
      ]
    },
    {
      "cell_type": "code",
      "execution_count": null,
      "metadata": {
        "id": "r3Fyg_rk3jmT"
      },
      "outputs": [],
      "source": [
        "print(small_prj.bounds.head())"
      ]
    },
    {
      "cell_type": "code",
      "execution_count": null,
      "metadata": {
        "id": "P571WLQk3jmT"
      },
      "outputs": [],
      "source": [
        "small_prj.total_bounds"
      ]
    },
    {
      "cell_type": "markdown",
      "metadata": {
        "id": "ZOgA5Ktn3jmT"
      },
      "source": [
        "The GeoPandas *centroid* method returns the **centroid** of each feature in the data set. There are a variety of spatial operations that can be performed using GeoPandas and its dependencies. If you are interested in the operations available, please review the GeoPandas documentation referenced above."
      ]
    },
    {
      "cell_type": "code",
      "execution_count": null,
      "metadata": {
        "id": "MSw6S0kv3jmT"
      },
      "outputs": [],
      "source": [
        "simd_cen = small_prj.centroid\n",
        "simd_cen.plot()"
      ]
    },
    {
      "cell_type": "markdown",
      "metadata": {
        "id": "rjhugtDq3jmT"
      },
      "source": [
        "**Contextily** allows for **raster tile base maps** to be added to maps produced with matplotlib.\n",
        "\n",
        "In the example below, the geospatial data are not drawing at the correct location. This is because the raster tile base maps are referenced to the Web Mercator projection whereas the SIMD data are referenced to OSGB36 / British National Grid. Python is not able to perform projection on-the-fly operations, like QGIS/ArcGIS do. So, it is important that data layers have the same spatial reference system.\n",
        "\n",
        "You can use the *to_crs()* GeoPandas method and appropriate EPSG code to create a copy of the counties data that have been transformed to the Web Mercator projection. When I recreate the map and add the base map, everything lines up. So, it is important that you consider the impact of projections and make changes where necessary. When performing overlay and spatial analysis, it is preferable that all of your data layers are referenced to the same spatial coordinate reference system."
      ]
    },
    {
      "cell_type": "code",
      "execution_count": null,
      "metadata": {
        "id": "J298gOsN3jmT"
      },
      "outputs": [],
      "source": [
        "simd_map = small_prj.plot()\n",
        "ctx.add_basemap(simd_map, source=ctx.providers.CartoDB.Voyager)"
      ]
    },
    {
      "cell_type": "code",
      "execution_count": null,
      "metadata": {
        "id": "Y6YXqfPe3jmT"
      },
      "outputs": [],
      "source": [
        "simd_cWebM = New_GDF.to_crs(\"EPSG:3857\")\n",
        "simd_map = simd_cWebM.plot()\n",
        "ctx.add_basemap(simd_map, source=ctx.providers.CartoDB.Voyager)"
      ]
    },
    {
      "cell_type": "markdown",
      "source": [
        "## Save a file"
      ],
      "metadata": {
        "id": "-TnIBdLWgi2N"
      }
    },
    {
      "cell_type": "markdown",
      "metadata": {
        "id": "FVKl3a0K3jmT"
      },
      "source": [
        "The *to_file()* GeoPandas method allows you to save results back to disk. Since GeoPandas uses Fiona and GDAL, a variety of formats can be read and written. **Note: You migth get an error here. -- Try to solve it with no assistance---**"
      ]
    },
    {
      "cell_type": "code",
      "execution_count": null,
      "metadata": {
        "id": "cgOgBRYM3jmT"
      },
      "outputs": [],
      "source": [
        "simd_cWebM.to_file(\"/content/drive/MyDrive/out/simd_web_mercator.shp\")"
      ]
    },
    {
      "cell_type": "markdown",
      "source": [
        "## GeoPandas Plot()"
      ],
      "metadata": {
        "id": "fhCRhrlGgvVb"
      }
    },
    {
      "cell_type": "markdown",
      "metadata": {
        "id": "RkoG1kaD3jmT"
      },
      "source": [
        "The GeoPandas *plot()* method allows you to plot or map your vector data using matplotlib. The *column* parameter allows you to symbolize relative to attribute data (quintileV2 in this example). You can also use color ramps available via matplotlib or make your own.\n",
        "\n",
        "[Here](https://matplotlib.org/3.3.1/tutorials/colors/colormaps.html) is a link to a list of named matplotlib color ramps."
      ]
    },
    {
      "cell_type": "code",
      "execution_count": null,
      "metadata": {
        "id": "Zl2SqLtE3jmU"
      },
      "outputs": [],
      "source": [
        "New_GDF.plot(column=\"Quintilev2\", cmap=\"BuGn\")"
      ]
    },
    {
      "cell_type": "markdown",
      "metadata": {
        "id": "GJDsuin63jmU"
      },
      "source": [
        "Using methods that we have already discussed in Pandas, you can generate a new population density field from the available population and area attributes. I then symbolize relative to this new field. The *scheme* argument allows you to specify a classification method.\n",
        "\n",
        "You can also add a legend, change its position, and set a title as demonstrated in the following examples."
      ]
    },
    {
      "cell_type": "code",
      "execution_count": null,
      "metadata": {
        "id": "Tk1eHtto3jmU"
      },
      "outputs": [],
      "source": [
        "small_prj['square_kms'] = small_prj['Shape_Area']/ 1000\n",
        "small_prj['pop_den'] = small_prj['SAPE2017']/small_prj['square_kms']\n",
        "\n",
        "\n",
        "small_prj.plot(column=\"pop_den\", cmap=\"YlOrRd\", scheme=\"quantiles\")"
      ]
    },
    {
      "cell_type": "code",
      "execution_count": null,
      "metadata": {
        "id": "SSyoqfo83jmU"
      },
      "outputs": [],
      "source": [
        "fig, ax = plt.subplots(1, 1)\n",
        "small_prj.plot(column='pop_den', cmap=\"YlOrRd\", ax=ax, legend=True, legend_kwds={'label': \"Population Density\", 'orientation': \"vertical\"})"
      ]
    },
    {
      "cell_type": "markdown",
      "metadata": {
        "id": "xwAlbppj3jmU"
      },
      "source": [
        "Using the guidance from the notebook related to data visualization module, here we are creating a figure with multiple axes in which to place several maps. I changed the *scheme* argument to compare different legend classification methods., similar to the way you could create those maps in **QGIS** or **ArcGIS**"
      ]
    },
    {
      "cell_type": "code",
      "execution_count": null,
      "metadata": {
        "id": "4oCp4HaG3jmU"
      },
      "outputs": [],
      "source": [
        "plt.rcParams['figure.figsize'] = [10, 8]\n",
        "fig, ax = plt.subplots(2, 2)\n",
        "small_prj.plot(column=\"pop_den\", ax=ax[0,0], cmap=\"YlOrRd\", scheme=\"Quantiles\")\n",
        "ax[0,0].set_title(\"Quantiles\", fontsize=20, color=\"#000000\")\n",
        "small_prj.plot(column=\"pop_den\", ax=ax[0,1], cmap=\"YlOrRd\", scheme=\"Percentiles\")\n",
        "ax[0,1].set_title(\"Percentiles\", fontsize=20, color=\"#000000\")\n",
        "small_prj.plot(column=\"pop_den\", ax=ax[1,0], cmap=\"YlOrRd\", scheme=\"EqualInterval\")\n",
        "ax[1,0].set_title(\"Equal Interval\", fontsize=20, color=\"#000000\")\n",
        "small_prj.plot(column=\"pop_den\", ax=ax[1,1], cmap=\"YlOrRd\", scheme=\"NaturalBreaks\")\n",
        "ax[1,1].set_title(\"Natural Breaks\", fontsize=20, color=\"#000000\")\n",
        "fig.patch.set_facecolor('#bcd1bc')"
      ]
    },
    {
      "cell_type": "markdown",
      "source": [
        "## Add multiple Layers"
      ],
      "metadata": {
        "id": "wm8RQFbJhCEl"
      }
    },
    {
      "cell_type": "markdown",
      "metadata": {
        "id": "hJm2FTtG3jmU"
      },
      "source": [
        "Finally, You could generate a map layout that incorporates multiple layers. Which is very useful when you need to compare or integrate  multiple variable in your map or analysis. Think about multiple layer or in this case multiple geo-dataframes. The Number of people in households without central heating (HouseNumNC) is displayed then overlaid with point data representing the Localities . To make sure that all of these layers plot in the same map space, I reference the same axis with the *ax* parameter.\n",
        "\n",
        "Here are some helpful links for setting marker and line styles:\n",
        "\n",
        "* [Matplotlib.Markers](https://matplotlib.org/3.1.1/api/markers_api.html)\n",
        "* [Matplotlib.PyPlot.Plot](https://matplotlib.org/3.1.0/api/_as_gen/matplotlib.pyplot.plot.html)"
      ]
    },
    {
      "cell_type": "code",
      "execution_count": null,
      "metadata": {
        "id": "eQk1EUfL3jmU"
      },
      "outputs": [],
      "source": [
        "plt.rcParams['figure.figsize'] = [10, 8]\n",
        "fig, ax = plt.subplots(1, 1)\n",
        "simd_prj.plot(column='HouseNumNC', cmap=\"YlGn\", ax=ax, legend=True, legend_kwds={'label': \"Number of people in households without central heating\", 'orientation': \"vertical\"})\n",
        "wv_t = gpd.read_file('/content/drive/MyDrive/Colab Notebooks/data/Localities_Centroids/Localities_Centroids.shp')\n",
        "wv_t.plot(ax=ax, marker=\"D\", color=\"gray\", markersize=1)"
      ]
    },
    {
      "cell_type": "markdown",
      "metadata": {
        "id": "aAXFoQZ13jmU"
      },
      "source": [
        "# Rasterio - Read and Write Raster Data"
      ]
    },
    {
      "cell_type": "markdown",
      "metadata": {
        "id": "BDfsXkhZ3jmU"
      },
      "source": [
        "After workking brieflty with vector data in particular with shapefiles, now we will now move on to discuss working with raster geospatial data using **Rasterio** and **EarthPy**.\n",
        "\n",
        "The Rasterio *open()* method allows for data to be read from disk in either reading or writing mode. Here, we will primarily use reading mode, which is the default, since we just want to connect to the data and not manipulate it on the disk. Rasterio can read a variety of raster data types and formats due its reliance on **GDAL**.\n",
        "\n",
        "Once a connection is made to a raster data layer, a variety of attributes are available to describe and explore the data.\n",
        "\n",
        "Once you have read the data you could get the number of bands, number of columns, number of rows, bounding geometry, and spatial coordinate system as an EPSG code.\n",
        "\n",
        "When you are done using a layer, it is generally recommend to disconnect using the *close()* method."
      ]
    },
    {
      "cell_type": "markdown",
      "source": [
        "## open()"
      ],
      "metadata": {
        "id": "b5ClxZD_hIVm"
      }
    },
    {
      "cell_type": "code",
      "execution_count": null,
      "metadata": {
        "id": "Ke9Cy3A03jmV"
      },
      "outputs": [],
      "source": [
        "elev = rio.open('/content/drive/MyDrive/Colab Notebooks/data/Scotland_DEM/Scotland_DEM.img')\n",
        "print(elev.name)\n",
        "print(elev.count)\n",
        "print(elev.width)\n",
        "print(elev.height)\n",
        "print(elev.bounds)\n",
        "print(elev.crs)\n",
        "#elev.close()"
      ]
    },
    {
      "cell_type": "markdown",
      "metadata": {
        "id": "g84r2R4w3jmV"
      },
      "source": [
        "As it was described in previous lectures once the data is read is loaded into your computer's memory, in this case, once a connection is made to a data layer, it can be read into memory as a **NumPy array**, since raster data are essentially arrays.\n",
        "\n",
        "Now you recall why was important to understand initially how NumPy works. This is convenient because we can now use NumPy operations, functions, and methods on our gridded data. This is accomplished using the *read()* method."
      ]
    },
    {
      "cell_type": "code",
      "execution_count": null,
      "metadata": {
        "id": "jM7bDDiJ3jmV"
      },
      "outputs": [],
      "source": [
        "elev_arr = elev.read(1)\n",
        "elev_arr"
      ]
    },
    {
      "cell_type": "code",
      "execution_count": null,
      "metadata": {
        "id": "67Mdp-O03jmV"
      },
      "outputs": [],
      "source": [
        "image_read_masked = np.ma.masked_array(elev_arr, mask=(elev_arr == 0))"
      ]
    },
    {
      "cell_type": "markdown",
      "metadata": {
        "id": "ZoRd6GoM3jmV"
      },
      "source": [
        "Once the raster data are written to memory as a NumPy array, they can be mapped or visualized with matplotlib using the **imshow()** method that was demonstrated in the prior data visualization module.\n",
        "\n",
        "In the following example, you can use multiple axes to display the data using different color ramps."
      ]
    },
    {
      "cell_type": "code",
      "execution_count": null,
      "metadata": {
        "id": "owL-xiJ63jmV"
      },
      "outputs": [],
      "source": [
        "plt.rcParams['figure.figsize'] = [10, 8]\n",
        "plt.imshow(image_read_masked, cmap=\"gist_gray\")"
      ]
    },
    {
      "cell_type": "code",
      "execution_count": null,
      "metadata": {
        "id": "w241Kb0t3jmV"
      },
      "outputs": [],
      "source": [
        "plt.rcParams['figure.figsize'] = [10, 8]\n",
        "fig, ax = plt.subplots(2, 2)\n",
        "ax[0,0].imshow(image_read_masked, cmap=\"gist_gray\")\n",
        "ax[0,1].imshow(image_read_masked, cmap=\"copper\")\n",
        "ax[1,0].imshow(image_read_masked, cmap=\"YlOrBr\")\n",
        "ax[1,1].imshow(image_read_masked, cmap=\"gist_earth\")\n",
        "fig.patch.set_facecolor('#bcd1bc')"
      ]
    },
    {
      "cell_type": "markdown",
      "metadata": {
        "id": "OPPRzPTy3jmV"
      },
      "source": [
        "It is also possible to read in multiband raster data, such as multispectral imagery, using the same method as that used for a single-band data set. In the example below, you are reading in a Sentinel image. Using the available attributes, you can see that there are 8 bands present in the data set."
      ]
    },
    {
      "cell_type": "code",
      "execution_count": null,
      "metadata": {
        "id": "ALy03hof3jmV"
      },
      "outputs": [],
      "source": [
        "sentinel_data = rio.open('/content/drive/MyDrive/Colab Notebooks/data/MultiEspectral_IMG/T32SNJ_2023031_CompositeBand.jp2')\n",
        "print(sentinel_data.name)\n",
        "print(sentinel_data.count)\n",
        "print(sentinel_data.width)\n",
        "print(sentinel_data.height)\n",
        "print(sentinel_data.bounds)\n",
        "print(sentinel_data.crs)"
      ]
    },
    {
      "cell_type": "markdown",
      "metadata": {
        "id": "Rtjh_R5P3jmV"
      },
      "source": [
        "If no arguments are provided to the *read()* method, then all bands will be read into the NumPy array. You can also specify a specific band to read in. Unlike most indexing in Python, the band indexing for *read()* starts at 1.\n"
      ]
    },
    {
      "cell_type": "code",
      "execution_count": null,
      "metadata": {
        "id": "cwTPsdsM3jmV"
      },
      "outputs": [],
      "source": [
        "crop_arr = sentinel_data.read()\n",
        "print(crop_arr.shape)\n",
        "\n",
        "crop_arr2 = sentinel_data.read(7)\n",
        "print(crop_arr2.shape)"
      ]
    },
    {
      "cell_type": "markdown",
      "source": [
        "## Max and Min Values"
      ],
      "metadata": {
        "id": "NYRKKV7ZhvBJ"
      }
    },
    {
      "cell_type": "markdown",
      "metadata": {
        "id": "kONAHZRc3jmV"
      },
      "source": [
        "In the following example, you are using **bracket notation** to display one of the bands from the data set. Specifically, I am specifying the index associated with the 7th band, or SWIR2. This display is a bit dim because there is no stretching applied and the values do not fill the full radiometric range.\n",
        "\n",
        "**Note:** In the next line of code, you will investigate the distribution of the values then use that information to set min and max values to improve the display. This is accomplished using the *vmin* and *vmax* arguments. **bold text**"
      ]
    },
    {
      "cell_type": "code",
      "execution_count": null,
      "metadata": {
        "id": "EtsXiwtt3jmV"
      },
      "outputs": [],
      "source": [
        "plt.rcParams['figure.figsize'] = [10, 8]\n",
        "plt.imshow(crop_arr[7,:,:], cmap=\"gist_gray\")"
      ]
    },
    {
      "cell_type": "code",
      "execution_count": null,
      "metadata": {
        "id": "Gu6hBrXc3jmV"
      },
      "outputs": [],
      "source": [
        "print(crop_arr[1,:,:].max())\n",
        "print(crop_arr[1,:,:].min())\n",
        "print(crop_arr[1,:,:].mean())\n",
        "\n",
        "print(crop_arr[2,:,:].max())\n",
        "print(crop_arr[2,:,:].min())\n",
        "print(crop_arr[2,:,:].mean())\n",
        "\n",
        "print(crop_arr[3,:,:].max())\n",
        "print(crop_arr[3,:,:].min())\n",
        "print(crop_arr[3,:,:].mean())\n",
        "\n",
        "print(crop_arr[7,:,:].max())\n",
        "print(crop_arr[7,:,:].min())\n",
        "print(crop_arr[7,:,:].mean())\n"
      ]
    },
    {
      "cell_type": "code",
      "execution_count": null,
      "metadata": {
        "id": "0V_6fTlF3jmV"
      },
      "outputs": [],
      "source": [
        "plt.rcParams['figure.figsize'] = [10, 8]\n",
        "plt.imshow(crop_arr[7,:,:], cmap=\"gist_gray\", vmin=41, vmax=10000)"
      ]
    },
    {
      "cell_type": "markdown",
      "metadata": {
        "id": "9_TNZGyT3jmV"
      },
      "source": [
        "Now, let's use multiple axes to display the blue, green, red, and NIR bands. If you dont know the name of the bands in th following you can get the name, wavelength and resolution."
      ]
    },
    {
      "cell_type": "markdown",
      "metadata": {
        "id": "rhublL8O3jmV"
      },
      "source": [
        "|        Sentinel-2 Bands       | Central Wavelength (µm) | Resolution (m) |\n",
        "|:-----------------------------:|-------------------------|----------------|\n",
        "| Band 1 - Coastal aerosol      | 0.443                   | 60             |\n",
        "| Band 2 - Blue                 | 0.490                   | 10             |\n",
        "| Band 3 - Green                | 0.560                   | 10             |\n",
        "| Band 4 - Red                  | 0.665                   | 10             |\n",
        "| Band 5 - Vegetation Red Edge  | 0.705                   | 20             |\n",
        "| Band 6 - Vegetation Red Edge  | 0.740                   | 20             |\n",
        "| Band 7 - Vegetation Red Edge  | 0.783                   | 20             |\n",
        "| Band 8 - NIR                  | 0.842                   | 10             |\n",
        "| Band 8A - Vegetation Red Edge | 0.865                   | 20             |\n",
        "| Band 9 - Water vapour         | 0.945                   | 60             |\n",
        "| Band 10 - SWIR - Cirrus       | 1.375                   | 60             |\n",
        "| Band 11 - SWIR                | 1.610                   | 20             |\n",
        "| Band 12 - SWIR                | 2.190                   | 20             |"
      ]
    },
    {
      "cell_type": "markdown",
      "metadata": {
        "id": "f-uvIDZA3jmW"
      },
      "source": [
        "Make sure you understand how the array indexing was used to reference the correct band for each map."
      ]
    },
    {
      "cell_type": "code",
      "execution_count": null,
      "metadata": {
        "id": "m0iev1RR3jmW"
      },
      "outputs": [],
      "source": [
        "plt.rcParams['figure.figsize'] = [10, 8]\n",
        "fig, ax = plt.subplots(2, 2)\n",
        "\n",
        "ax[0,0].imshow(crop_arr[1,:,:], cmap=\"Blues\", vmin=0, vmax=10000)\n",
        "ax[0,0].axis(\"off\")\n",
        "ax[0,0].set_title(\"Blue\", fontsize=24, color=\"#000000\")\n",
        "ax[0,1].imshow(crop_arr[2,:,:], cmap=\"Greens\", vmin=0, vmax=10000)\n",
        "ax[0,1].axis(\"off\")\n",
        "ax[0,1].set_title(\"Green\", fontsize=24, color=\"#000000\")\n",
        "ax[1,0].imshow(crop_arr[3,:,:], cmap=\"Reds\", vmin=0, vmax=10000)\n",
        "ax[1,0].axis(\"off\")\n",
        "ax[1,0].set_title(\"Red\", fontsize=24, color=\"#000000\")\n",
        "ax[1,1].imshow(crop_arr[7,:,:], cmap=\"Oranges\", vmin=0, vmax=10000)\n",
        "ax[1,1].axis(\"off\")\n",
        "ax[1,1].set_title(\"NIR\", fontsize=24, color=\"#000000\")\n",
        "fig.patch.set_facecolor('#bcd1bc')"
      ]
    },
    {
      "cell_type": "markdown",
      "source": [
        "## EarthPy Package"
      ],
      "metadata": {
        "id": "3dpWy4d_h7RC"
      }
    },
    {
      "cell_type": "markdown",
      "metadata": {
        "id": "qBvAdi0K3jmW"
      },
      "source": [
        "**EarthPy** is a python package that makes it easier to plot and work with spatial raster and vector data using open source tools. Earthpy depends upon geopandas which has a focus on vector data and rasterio with facilitates input and output of raster data files. It also requires matplotlib for plotting operations. See the Documentation [here](https://earthpy.readthedocs.io/en/latest/index.html)."
      ]
    },
    {
      "cell_type": "markdown",
      "metadata": {
        "id": "Ar9Q_xXw3jmW"
      },
      "source": [
        "This python environment does not include this new package, therefore you can use Jupyter to install new packages using the method pip, from the Python Package Index - PIP https://pypi.org/.\n",
        "\n",
        "This is also a common task when you work with python, when you come across new packages where you need to add in your previous packages, so it is important you know how you can enrich your installed environment."
      ]
    },
    {
      "cell_type": "markdown",
      "metadata": {
        "id": "a_3vhStM3jmW"
      },
      "source": [
        "https://pypi.org/project/earthpy/"
      ]
    },
    {
      "cell_type": "code",
      "execution_count": null,
      "metadata": {
        "id": "8vOv-kzM3jmW"
      },
      "outputs": [],
      "source": [
        "pip install earthpy #Only run this cell once."
      ]
    },
    {
      "cell_type": "markdown",
      "metadata": {
        "id": "dVbU1y2p3jmW"
      },
      "source": [
        "Now, once our new package is installed, we can start to import these new libraries"
      ]
    },
    {
      "cell_type": "code",
      "execution_count": null,
      "metadata": {
        "id": "kbqTMevr3jmW"
      },
      "outputs": [],
      "source": [
        "import earthpy as et\n",
        "import earthpy.spatial as es\n",
        "import earthpy.plot as ep"
      ]
    },
    {
      "cell_type": "markdown",
      "metadata": {
        "id": "M81XFAAv3jmW"
      },
      "source": [
        "The EarthPy library will help you for displaying multispectral data as **true color** and **false color** composites. This can be accomplished with the *plot_rgb()* function and mapping the desired bands to the red, green, and blue color channels. Here, I am displaying the data using simulated true color where red is mapped to red, green is mapped to green, and blue is mapped to blue.\n",
        "\n",
        "Again, indexing starts at 0. The *stretch* argument allows for a contrast stretch to be applied, and the *str_clip* argument allows the specification of the percentage of high and low values to clip.\n",
        "\n",
        "In the following examples, I generate different false color composites. Again, make sure you understand the band indexing."
      ]
    },
    {
      "cell_type": "code",
      "execution_count": null,
      "metadata": {
        "id": "zRg1Qz-Y3jmW"
      },
      "outputs": [],
      "source": [
        "ep.plot_rgb(crop_arr,\n",
        "            rgb=[3, 2, 1],\n",
        "            stretch=True,\n",
        "            str_clip=10)\n",
        "plt.show()"
      ]
    },
    {
      "cell_type": "code",
      "execution_count": null,
      "metadata": {
        "id": "31t_qjEz3jmW"
      },
      "outputs": [],
      "source": [
        "ep.plot_rgb(crop_arr,\n",
        "            rgb=[4, 3, 2],\n",
        "            stretch=True,\n",
        "            str_clip=10)\n",
        "plt.show()"
      ]
    },
    {
      "cell_type": "code",
      "execution_count": null,
      "metadata": {
        "id": "u5H_nZJ-3jmW"
      },
      "outputs": [],
      "source": [
        "ep.plot_rgb(crop_arr,\n",
        "            rgb=[6, 4, 2],\n",
        "            stretch=True,\n",
        "            str_clip=10)\n",
        "plt.show()"
      ]
    },
    {
      "cell_type": "markdown",
      "metadata": {
        "id": "TA_avDzp3jmW"
      },
      "source": [
        "The *plot_bands()* function allows for each band to be plotted separately using multiple axes within a single figure.\n",
        "\n",
        "The *hist()* function will produce a histogram for each image band."
      ]
    },
    {
      "cell_type": "code",
      "execution_count": null,
      "metadata": {
        "id": "BBSQIGQx3jmW"
      },
      "outputs": [],
      "source": [
        "ep.plot_bands(crop_arr, cols=2)\n",
        "plt.show()"
      ]
    },
    {
      "cell_type": "code",
      "execution_count": null,
      "metadata": {
        "id": "qf3xEtfd3jmW"
      },
      "outputs": [],
      "source": [
        "colors_list = [\n",
        "    \"midnightblue\",\n",
        "    \"Blue\",\n",
        "    \"Green\",\n",
        "    \"Red\",\n",
        "    \"Maroon\",\n",
        "    \"Purple\",\n",
        "    \"Violet\",\n",
        "    \"yellow\"\n",
        "]\n",
        "titles = [\"Ultra Blue\", \"Blue\", \"Green\", \"Red\", \"NIR\", \"SWIR 1\", \"SWIR 2\",\"SWIR 3\"]\n",
        "\n",
        "ep.hist(crop_arr, colors=colors_list, title=titles)\n",
        "plt.show()"
      ]
    },
    {
      "cell_type": "markdown",
      "metadata": {
        "id": "9hNaiaqv3jmW"
      },
      "source": [
        "Again, there are some functions and methods available for analyzing raster data with Rasterio and EarthPy. However, that will not be covered here. If you are interested in that topic, please consult the documentation referenced above., or be sure you register to future module where we will work in more details with this type of packages for more advance scripts."
      ]
    },
    {
      "cell_type": "markdown",
      "source": [
        "# WhiteBox Workflows - WbW\n",
        "\n",
        "Whitebox Workflows - WbW is a popular and certanly a great Python library for **advanced geoprocessing**, including more than 400 functions for GIS and remote sensing analysis and for for manipulating geospatial data (raster, vector, and LiDAR). You can think of WbW as ArcPy from ArcGIS both provide a comprenhensive set of tools to process spatial data from multiple formats. Actually WbW is avaliabe for **ArcGIS** and **QGIS**, but what makes more powerfull is that enables you to extend your geoprocessing and spatial analisys to a higher level. As spatial data scientst, having the skills to extend and create new workflows will certainly help you to stand up among other people.\n",
        "\n",
        "For more information: https://www.whiteboxgeo.com/whitebox-workflows-for-python/"
      ],
      "metadata": {
        "id": "Kv9VYgQQLdOt"
      }
    },
    {
      "cell_type": "markdown",
      "metadata": {
        "id": "3Ny34Dlz3jmX"
      },
      "source": [
        "# Final remarks\n",
        "\n",
        "There is much to discuss and learn from the use of **GeoPandas**, and **Rasterio**, but this is just the initial step to get you familiarize with those librares. Now it is your turn to try out some challenges to help you apply all the methods in this notebook. Now please upload the **Exercises_GeoPandas.ipynb** avaliable in Moodle."
      ]
    }
  ],
  "metadata": {
    "kernelspec": {
      "display_name": "py4sa",
      "language": "python",
      "name": "python3"
    },
    "language_info": {
      "codemirror_mode": {
        "name": "ipython",
        "version": 3
      },
      "file_extension": ".py",
      "mimetype": "text/x-python",
      "name": "python",
      "nbconvert_exporter": "python",
      "pygments_lexer": "ipython3",
      "version": "3.10.9"
    },
    "vscode": {
      "interpreter": {
        "hash": "a62a218f45948969006c944db2ca1c519af623da5e08f864ae6aafcacb945df1"
      }
    },
    "colab": {
      "provenance": []
    }
  },
  "nbformat": 4,
  "nbformat_minor": 0
}